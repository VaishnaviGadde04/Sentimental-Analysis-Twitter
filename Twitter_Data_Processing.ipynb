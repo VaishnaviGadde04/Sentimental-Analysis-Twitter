{
 "cells": [
  {
   "cell_type": "markdown",
   "metadata": {},
   "source": [
    "Date: **14/06/2020**\n",
    "\n",
    "Version: **1.0**\n",
    "\n",
    "Environment: **Python 3.7.0 (64-bit)**\n",
    "\n",
    "**Libraries used:**\n",
    "* [pandas 0.25.0 (for data frame, included in Python 3.7) ](https://pandas.pydata.org/pandas-docs/stable/reference/api/pandas.DataFrame.to_csv.html)\n",
    "* [numpy](https://numpy.org/)\n",
    "* [re 2.2.1 (for regular expression, included in Python 3.7)](https://docs.python.org/3/library/re.html)\n",
    "* [os](https://docs.python.org/3/library/os.html)\n",
    "* [RegexpTokenizer](https://www.nltk.org/api/nltk.tokenize.html)\n",
    "* [fnmatch](https://docs.python.org/3/library/fnmatch.html)\n",
    "* [ZipFile](https://docs.python.org/3/library/zipfile.html)\n",
    "* [MWETokenizer](https://www.nltk.org/api/nltk.tokenize.html)\n",
    "* [Stopwords](https://www.nltk.org/book/ch02.html)\n",
    "* [WordNetLemmatizer](http://www.nltk.org/api/nltk.stem.html?highlight=lemmatizer)\n",
    "* [TfidfVectorizer](https://scikit-learn.org/stable/modules/generated/sklearn.feature_extraction.text.TfidfVectorizer.html)\n",
    "* [from sklearn.svm import SVC](https://scikit-learn.org/stable/modules/generated/sklearn.svm.SVC.html)\n",
    "* [BaggingClassifier](https://scikit-learn.org/stable/modules/generated/sklearn.ensemble.BaggingClassifier.html)\n",
    "* [Accuracy_score](https://scikit-learn.org/stable/modules/generated/sklearn.metrics.accuracy_score.html)"
   ]
  },
  {
   "cell_type": "markdown",
   "metadata": {},
   "source": [
    "## Table of Contents\n",
    "\n",
    "* [Introduction](#sec_1)\n",
    "* [Methodology](#sec_2)\n",
    "* [Data-Preprocessing and Feature Extraction](#sec_3)\n",
    "* [Classifier](#sec_4)\n",
    "* [Evaluation](#sec_5)\n",
    "* [Conclusion](#sec_6)\n",
    "* [References](#sec_7)"
   ]
  },
  {
   "cell_type": "markdown",
   "metadata": {},
   "source": [
    "## 1. Introduction<a class=\"anchor\" id=\"sec_1\"></a> "
   ]
  },
  {
   "cell_type": "markdown",
   "metadata": {},
   "source": [
    "This assignment is about **`Authorship Analysis`**, which deals with classification of twitter texts into two classes i.e. genders namely **`male`** and **`female`**. It is mainly about **`gender classification task`**. This authorship profiling task is often formulated as a classification problem, where a classifier(Machine Learning Algorithms) is fed with a text(tweet text) and returns the corresponding gender who has tweeted it. We are given a [__`zip file`__]**`data.zip`** file, where after extracting all the tweets from it, consists of overall 3600 tweets. Among those 3100 tweet texts is taken as a train data which has a labels given in [`.csv`] (Comma Separated Values) file format **train_labels.csv** file and the remaining 500 tweet texts which do not have labels is taken as test data and we predict the classes to which those tweets belong to from our built machine learning algorithms. The different classifiers(Machine Learning algorithms) used in this task are **`Support Vector Classification (SVC)`**, **`Logistic Regression`**, **`Random Forest`**, **`Naive Bayes`**. \n",
    "The main steps involved before building the classifiers are : \n",
    " - **`pre-processing the data(Data Pre-Processing)`** \n",
    " - **`generating the proper features(Feature Extraction)`**, through which our machine learning algorithms could understand and \n",
    " - **`predict the required classes`**. \n",
    " \n",
    " Detailed analysis for each task will be given in the following sections\n",
    " \n",
    " <img src = \"Authorship-Profiling.png\"/>"
   ]
  },
  {
   "cell_type": "markdown",
   "metadata": {},
   "source": [
    "## 2. Methodology<a class=\"anchor\" id=\"sec_2\"></a>\n",
    "\n",
    "For completing the given tasks, we had used the following steps:\n",
    "\n",
    "[__1. Extracting Data:__](#data_extraction)\n",
    "Initially, data is given in **`zip`** file format. Using `ZipFile` library, read the contents of the file and extracted the zip contents and store it in a dictionary.\n",
    "\n",
    "[__2. Data Pre-processing:__](#data_preprocessing)\n",
    "Before starting Sparse Feature Generation, we have to perform following text pre-processing steps on our data to make machine understable format.\n",
    "\n",
    "   - [__2.1 Removal of tags:__](#tag_removal) Since our given input file is in `XML` format, all tweets are lies between two tags namely `documents` & `document`. hence removal of tags makes much easier for processing in further stages as it adds no weight to our data.\n",
    "    \n",
    "   - [__2.2 Case Normalization and Tokenization:__](#case_normalisation) Tokens must be normalized to lowercase except the capital tokens appearing in the middle of a sentence/line. Text is usually represented as sequences of characters by computers. However, most natural language processing (NLP) and text mining tasks (e.g., parsing, information extraction, machine translation, document classification, information retrieval, etc.) need to operate on tokens. The process of breaking a stream of text into tokens is often referred to as **tokenization**. A <font color=\"blue\">RegexpTokenizer</font> splits a string into tokens using the given regular expression.\n",
    "   \n",
    "   - [__2.3 Bigram generation:__](#bigram_generation) Bigrams are the words within a sentence which are of side by side. They are all possible word pairs formed from neighboring words in a sentence. These are actually added to our tokenized unigrams because these could actually improve the accuracy of our predictions by adding the semantic meaning to our text.\n",
    "   \n",
    "   - [__2.4 Removal of Stopwords:__](#stopwords_removal) Usually stop words carry little lexical content. They are often functional words in English, for example, articles, pronouns, particles, and so on. In NLP and IR, we usually exclude stop words from the vocabulary. Otherwise, we will face the curse of dimensionality. There are some exceptions, such as syntactic analysis like parsing, we choose to keep those functional words. However, we are going to remove all the stop words in the above list by using the stop word list in NLTK.\n",
    "   \n",
    "   - [__2.5 Removing Punctuations:__](#punctuations_removal) Punctuations like “hyphen”, “apostrophe” are removed which are observed in some of the pre-processed tokens. These are removed as these do not add any semantic meaning in terms of classifying the given text into classes.\n",
    "\n",
    "   - [__2.6 Lemmatization:__](#Lemmatization)It is the process of identification and removal of suffixes and pluralization which leaves you with a base word.\n",
    "   \n",
    "[__3. Feature Generation:__](#feature_generation)Here we had used **`TF-IDF Vectorizer`**, we will convert these word frequencies into vectors i.e. vector representation, which could be passed to our machine learning algorithms. Because machine learning algorithms could be feed/understand only the vector representations of data.\n",
    "\n",
    "[__4. Classifier:__](#classifier)Here we had performed several experiments on different kinds of classifiers to get the most accurate prediction in the gender classification task. Finally the most accurate classifier among all the algorithms is chosen.\n",
    "\n",
    "[__5. Evaluation:__](#evaluation)Finally after predicted we use one of the evaluation metrics to check how well our prediction is. Here we had used **`accuracy_score`** as metric to check accuracy for gender classification."
   ]
  },
  {
   "cell_type": "markdown",
   "metadata": {},
   "source": [
    "### Importing Libraries\n",
    "\n",
    "1. __pandas__:This library was used to read & write the contents of the extracted data into CSV format by using `read_csv` & `pandas.DataFrame.to__csv`\n",
    "2. __re__: This library provides regular expression pattern matching operations used to extract the contents of the data. Some of the used regular expressions are: `re.sub`\n",
    "3. __os__: This module offers a portable way to use features dependent on the operating system. See open) (if you just want to read or write a file, if you want to manipulate routes, see the os.path module and see the file input module if you want to read all the lines in all the documents on the command line.\n",
    "4. __nltk__: NLTK is a leading platform for building Python programs to work with human language data. It provides easy-to-use interfaces to over 50 corpora and lexical resources such as WordNet, along with a suite of text processing libraries for `classification`, `tokenization`, `lematization`.\n",
    "5. __numpy__ : This library is used for setting the seed value to provide reproducible results.\n",
    "6. __ZipFile__ : This library supports decryption of encrypted files in ZIP archives\n",
    "7. __TF-IDF Vectorizer__ : This library converts a collection of raw documents to a matrix of TF-IDF features.\n",
    "8. __sklearn.svm__ : This library is used for Support Vector Classsification for large datsets.\n",
    "9. __sklearn.ensemble__ : This library is an ensemble meta-estimator that fits base classifiers each on random subsets of the original dataset and then aggregate their individual predictions (either by voting or by averaging) to form a final prediction.\n",
    "10. __sklearn.metrics__ : This library includes score functions, performance metrics and pairwise metrics and distance computations."
   ]
  },
  {
   "cell_type": "code",
   "execution_count": 1,
   "metadata": {},
   "outputs": [],
   "source": [
    "#importing the required libraries\n",
    "from zipfile import ZipFile\n",
    "import re\n",
    "import fnmatch\n",
    "import os\n",
    "import pandas as pd\n",
    "import nltk.data\n",
    "import numpy as np\n",
    "from nltk.tokenize import RegexpTokenizer\n",
    "from nltk.tokenize import MWETokenizer\n",
    "from nltk.corpus import stopwords\n",
    "from nltk.stem import WordNetLemmatizer\n",
    "from sklearn.feature_extraction.text import TfidfVectorizer\n",
    "from sklearn.svm import SVC\n",
    "from sklearn.ensemble import BaggingClassifier\n",
    "from sklearn.metrics import accuracy_score\n",
    "from sklearn import metrics"
   ]
  },
  {
   "cell_type": "markdown",
   "metadata": {},
   "source": [
    "### Data Extraction<a class=\"anchor\" id=\"data_extraction\"></a>\n",
    "Opening the `data.zip` in  `r` mode and using `extractall` we had converting all the input xml files to a list. Following this we use a for loop on the file to get the file line wise and extract the contents to store them in a dictionary."
   ]
  },
  {
   "cell_type": "code",
   "execution_count": 2,
   "metadata": {},
   "outputs": [],
   "source": [
    "#opening the data.zip in read mode \n",
    "with ZipFile('data.zip','r') as zipfile:\n",
    "    #extracting all the files in data.zip\n",
    "    zipfile.extractall() \n",
    "    listOfFileNames = zipfile.namelist()\n",
    "    dicti ={}\n",
    "    xml_files = [i for i in os.listdir('data/') if os.path.splitext(i)[1] == '.xml']\n",
    "    for name in xml_files:\n",
    "        #opening the .xml files and reading them into dictonary\n",
    "        with open(os.path.join('data/',name),encoding='utf-8') as input_file:\n",
    "            dicti[name] = input_file.read()"
   ]
  },
  {
   "cell_type": "code",
   "execution_count": 3,
   "metadata": {},
   "outputs": [
    {
     "data": {
      "text/html": [
       "<div>\n",
       "<style scoped>\n",
       "    .dataframe tbody tr th:only-of-type {\n",
       "        vertical-align: middle;\n",
       "    }\n",
       "\n",
       "    .dataframe tbody tr th {\n",
       "        vertical-align: top;\n",
       "    }\n",
       "\n",
       "    .dataframe thead th {\n",
       "        text-align: right;\n",
       "    }\n",
       "</style>\n",
       "<table border=\"1\" class=\"dataframe\">\n",
       "  <thead>\n",
       "    <tr style=\"text-align: right;\">\n",
       "      <th></th>\n",
       "      <th>id</th>\n",
       "      <th>gender</th>\n",
       "    </tr>\n",
       "  </thead>\n",
       "  <tbody>\n",
       "    <tr>\n",
       "      <th>0</th>\n",
       "      <td>d7d392835f50664fc079f0f388e147a0</td>\n",
       "      <td>male</td>\n",
       "    </tr>\n",
       "    <tr>\n",
       "      <th>1</th>\n",
       "      <td>ee40b86368137b86f51806c9f105b34b</td>\n",
       "      <td>female</td>\n",
       "    </tr>\n",
       "    <tr>\n",
       "      <th>2</th>\n",
       "      <td>919bc742d9a22d65eab1f52b11656cab</td>\n",
       "      <td>male</td>\n",
       "    </tr>\n",
       "    <tr>\n",
       "      <th>3</th>\n",
       "      <td>15b97a08d65f22d97ca685686510b6ae</td>\n",
       "      <td>female</td>\n",
       "    </tr>\n",
       "    <tr>\n",
       "      <th>4</th>\n",
       "      <td>affa98421ef5c46ca7c8f246e0a134c1</td>\n",
       "      <td>female</td>\n",
       "    </tr>\n",
       "  </tbody>\n",
       "</table>\n",
       "</div>"
      ],
      "text/plain": [
       "                                 id  gender\n",
       "0  d7d392835f50664fc079f0f388e147a0    male\n",
       "1  ee40b86368137b86f51806c9f105b34b  female\n",
       "2  919bc742d9a22d65eab1f52b11656cab    male\n",
       "3  15b97a08d65f22d97ca685686510b6ae  female\n",
       "4  affa98421ef5c46ca7c8f246e0a134c1  female"
      ]
     },
     "execution_count": 3,
     "metadata": {},
     "output_type": "execute_result"
    }
   ],
   "source": [
    "#reading the training data into a dataframe using pandas \n",
    "train_labels = pd.read_csv(\"train_labels.csv\")\n",
    "train_labels.head()"
   ]
  },
  {
   "cell_type": "code",
   "execution_count": 4,
   "metadata": {},
   "outputs": [],
   "source": [
    "'''\n",
    "storing the ids of the train_labels data into a list , so that it could be easier to classify the complete tweet data into\n",
    "train and test based on these ids.\n",
    "'''\n",
    "train_list = train_labels['id'].tolist()"
   ]
  },
  {
   "cell_type": "code",
   "execution_count": 5,
   "metadata": {
    "scrolled": true
   },
   "outputs": [
    {
     "data": {
      "text/html": [
       "<div>\n",
       "<style scoped>\n",
       "    .dataframe tbody tr th:only-of-type {\n",
       "        vertical-align: middle;\n",
       "    }\n",
       "\n",
       "    .dataframe tbody tr th {\n",
       "        vertical-align: top;\n",
       "    }\n",
       "\n",
       "    .dataframe thead th {\n",
       "        text-align: right;\n",
       "    }\n",
       "</style>\n",
       "<table border=\"1\" class=\"dataframe\">\n",
       "  <thead>\n",
       "    <tr style=\"text-align: right;\">\n",
       "      <th></th>\n",
       "      <th>id</th>\n",
       "      <th>gender</th>\n",
       "    </tr>\n",
       "  </thead>\n",
       "  <tbody>\n",
       "    <tr>\n",
       "      <th>0</th>\n",
       "      <td>d6b08022cdf758ead05e1c266649c393</td>\n",
       "      <td>male</td>\n",
       "    </tr>\n",
       "    <tr>\n",
       "      <th>1</th>\n",
       "      <td>9a989cb04766d5a89a65e8912d448328</td>\n",
       "      <td>female</td>\n",
       "    </tr>\n",
       "    <tr>\n",
       "      <th>2</th>\n",
       "      <td>2a1053a059d58fbafd3e782a8f7972c0</td>\n",
       "      <td>male</td>\n",
       "    </tr>\n",
       "    <tr>\n",
       "      <th>3</th>\n",
       "      <td>6032537900368aca3d1546bd71ecabd1</td>\n",
       "      <td>male</td>\n",
       "    </tr>\n",
       "    <tr>\n",
       "      <th>4</th>\n",
       "      <td>d191280655be8108ec9928398ff5b563</td>\n",
       "      <td>male</td>\n",
       "    </tr>\n",
       "  </tbody>\n",
       "</table>\n",
       "</div>"
      ],
      "text/plain": [
       "                                 id  gender\n",
       "0  d6b08022cdf758ead05e1c266649c393    male\n",
       "1  9a989cb04766d5a89a65e8912d448328  female\n",
       "2  2a1053a059d58fbafd3e782a8f7972c0    male\n",
       "3  6032537900368aca3d1546bd71ecabd1    male\n",
       "4  d191280655be8108ec9928398ff5b563    male"
      ]
     },
     "execution_count": 5,
     "metadata": {},
     "output_type": "execute_result"
    }
   ],
   "source": [
    "#reading the testing data into a dataframe using pandas \n",
    "test_labels = pd.read_csv(\"test_labels.csv\")\n",
    "test_labels.head()"
   ]
  },
  {
   "cell_type": "markdown",
   "metadata": {},
   "source": [
    "## 3.Data-Preprocessing and Feature Extraction<a class=\"anchor\" id=\"sec_3\"></a>"
   ]
  },
  {
   "cell_type": "markdown",
   "metadata": {},
   "source": [
    "It is an important step in any of the data-mining process. It involves basically transforming raw data into Natural Language Processing(NLP) models understandable format. As a real-world data is incomplete, inconsistent and may contain many errors. So, we try to pre-process the data in classifiers understandable format, which is known to be a proven method for getting better predictions.\n",
    "\n",
    "The main pre-processing steps involving here for **`Text-Classification`** of this task which we have done are as follows:<a class=\"anchor\" id=\"data_preprocessing\"></a>"
   ]
  },
  {
   "cell_type": "markdown",
   "metadata": {},
   "source": [
    "**1.Removal of tags:** <a class=\"anchor\" id=\"tag_removal\"></a>\n",
    "\n",
    "The given tweet content is in a “XML” format, where the actual raw content is enclosed between the tags. These tags do not actually add any weight to the actual text, through which we can predict our class labels. If we observe closely the tweet content in “XML” file,  is enclosed mainly between $<documents>, </documents>, <document>, </document>$ tags. So, all of these tags are removed. Apart from these “URLs” i.e. http, https links are also removed because as we are not going to web scrap the content from those links and add it to our actual tweet text."
   ]
  },
  {
   "cell_type": "code",
   "execution_count": 6,
   "metadata": {},
   "outputs": [],
   "source": [
    "def remove_tags(dataa):\n",
    "    # removing the xml tags using the re package in python\n",
    "    dataa = re.sub('<document>', \"''\", dataa, flags = re.MULTILINE)\n",
    "    dataa = re.sub('</document>', \"''\", dataa, flags = re.MULTILINE)\n",
    "    dataa = re.sub('<documents>', \"''\", dataa, flags = re.MULTILINE)\n",
    "    dataa = re.sub('</documents>', \"''\", dataa, flags = re.MULTILINE)\n",
    "    #removing the hyper text from our data using regular expressions\n",
    "    dataa = re.sub(r'''(?i)\\b((?:https?://|www\\d{0,3}[.]|[a-z0-9.\\-]+[.][a-z]{2,4}/)(?:[^\\s()<>]+|\\(([^\\s()<>]+|(\\([^\\s()<>]+\\)))*\\))+(?:\\(([^\\s()<>]+|(\\([^\\s()<>]+\\)))*\\)|[^\\s`!()\\[\\]{};:'\".,<>?«»“”‘’]))''', \"''\", dataa, flags = re.MULTILINE)\n",
    "    return dataa"
   ]
  },
  {
   "cell_type": "markdown",
   "metadata": {},
   "source": [
    "**2.Case Normalization and Tokenization:** <a class=\"anchor\" id=\"case_normalisation\"></a>\n",
    "\n",
    "Case Normalization convert the words into either uppercase (or) lowercase in order to make users differentiate between nouns and proper nouns. In our task, we have done case normalization by using lower case, where each word of a sentence will be converted into a lower case independent of whether it is noun (or) proper noun, because the tweet content is written in an informal language where there is no point of differentiating noun/proper noun. The other reason why we have done case normalization is we don’t want “Boy” and “boy” to be considered as two different words as the meaning of these two words are same and causes redundancy.\n",
    "\n",
    "Tokenization is the process where a longer chunks(strings) of text is broken into smaller words. For an example, a paragraph into sentences, a sentence into a word. These words are called as “Tokens”. It is also referred to as a “Text-Segmentation” (or) “Lexical Analysis”. In this task, we are getting only the words that are alphanumeric. All the special symbols, numbers , emojis are removed during the tokenization as it is difficult to interpret from these."
   ]
  },
  {
   "cell_type": "code",
   "execution_count": 7,
   "metadata": {},
   "outputs": [],
   "source": [
    "def tokenization(dataa):\n",
    "    #converting the data into lower case\n",
    "    dataa = dataa.lower()\n",
    "    #using the tokeniser and regular expression to break our text into words by retrieving only the alhpanumeric tokens\n",
    "    tokenizer = RegexpTokenizer(r\"[A-Za-z]\\w+(?:[-'?]\\w+)?\")\n",
    "    unigram_tokens = tokenizer.tokenize(dataa)\n",
    "    return unigram_tokens"
   ]
  },
  {
   "cell_type": "markdown",
   "metadata": {},
   "source": [
    "**3.Bigrams Generation:** <a class=\"anchor\" id=\"bigram_generation\"></a>\n",
    "\n",
    "Bigrams are the words within a sentence which are of side by side. They are all possible word pairs formed from neighboring words in a sentence. These are actually added to our tokenized unigrams because these could actually improve the accuracy of our predictions by adding the semantic meaning to our text. For an example , the term “not bad” has a positive meaning, but both the terms “not” and “bad” have negative meaning. In this way, we can preserve these semantic meaning of words."
   ]
  },
  {
   "cell_type": "code",
   "execution_count": 8,
   "metadata": {},
   "outputs": [],
   "source": [
    "def bigrams_generation(dataa):\n",
    "    '''\n",
    "    Using nltk pacakge, forming the collocations based on the list we send using nltk.collocations.BigramCollocationFinder.\n",
    "    The collocations package provides collocation finders which by default consider all ngrams in a text as candidate collocations.\n",
    "    '''\n",
    "    bigram_measures = nltk.collocations.BigramAssocMeasures()\n",
    "    bigram_finder = nltk.collocations.BigramCollocationFinder.from_words(dataa)\n",
    "    '''\n",
    "    While these words are highly collocated, the expressions are also very infrequent. \n",
    "    Therefore it is useful to apply filters, such as ignoring all bigrams which occur less than 20 times in the corpus.\n",
    "    '''\n",
    "    bigram_finder.apply_freq_filter(10)\n",
    "    bigram_finder.apply_word_filter(lambda w: len(w) < 3)\n",
    "    '''\n",
    "    Based on pmi(Pointwise Mutual Information) measure, nbest will generate the top frequencies for the complete length of \n",
    "    unigram_list. The bigram_finder.nbest function generate the top frequencies bigrams using pmi measure.\n",
    "    '''\n",
    "    total_bigrams = bigram_finder.nbest(bigram_measures.pmi, len(dataa)) \n",
    "    bigrams_generated = []\n",
    "    #concatenating the generated bigrams with \"_\"\n",
    "    if len(total_bigrams) > 1:\n",
    "        for i in total_bigrams:\n",
    "            wordd = i[0] + \"_\" + i[1]\n",
    "            bigrams_generated.append(wordd)\n",
    "    #adding the bigrams to our data\n",
    "    dataa = dataa + bigrams_generated\n",
    "    #returning the data with bigrams\n",
    "    return dataa"
   ]
  },
  {
   "cell_type": "markdown",
   "metadata": {},
   "source": [
    "**4.Removal of Stop-words:** <a class=\"anchor\" id=\"stopwords_removal\"></a>\n",
    "\n",
    "Stopwords are the words that occur commonly in the natural language as a means to connect the sentences. However, in the actual semantic content these do not add any weight/meaning. So, we remove these from our tweet text. These stop-words are also called as “context-independent” words."
   ]
  },
  {
   "cell_type": "code",
   "execution_count": 9,
   "metadata": {},
   "outputs": [],
   "source": [
    "#getting the stop words in english language which are present in nltk package\n",
    "stopwords_english = stopwords.words('english')\n",
    "#converting the list of stopwords to set so that the accessing and checking time will be less\n",
    "set_stopwords = set(stopwords_english)"
   ]
  },
  {
   "cell_type": "code",
   "execution_count": 10,
   "metadata": {},
   "outputs": [],
   "source": [
    "def stopwords(dataa):\n",
    "    #filtering out the stop words from the tokenized words\n",
    "    filtered_words_from_stopwords = [wordd for wordd in dataa if wordd not in set_stopwords]\n",
    "    return filtered_words_from_stopwords"
   ]
  },
  {
   "cell_type": "markdown",
   "metadata": {},
   "source": [
    "**5.Removing Punctuations:** <a class=\"anchor\" id=\"punctuations_removal\"></a>\n",
    "\n",
    "Punctuations like “hyphen”, “apostrophe” are removed which are observed in some of the pre-processed tokens. These are removed as these do not add any semantic meaning in terms of classifying the given text into classes. So, these are removed."
   ]
  },
  {
   "cell_type": "code",
   "execution_count": 11,
   "metadata": {},
   "outputs": [],
   "source": [
    "def remove_apostophy_hyphen(dataa):\n",
    "    punctuation_removal_tokens = []\n",
    "    #removing the punctuation, if it is present in the word\n",
    "    for wordd in dataa:\n",
    "        if \"'\" in wordd:\n",
    "            wordd = wordd.replace(\"'\", \"\")\n",
    "        if \"-\" in wordd:\n",
    "            wordd = wordd.replace(\"-\",\"\")\n",
    "        punctuation_removal_tokens.append(wordd)\n",
    "    return punctuation_removal_tokens"
   ]
  },
  {
   "cell_type": "markdown",
   "metadata": {},
   "source": [
    "**6.Lemmatization:** <a class=\"anchor\" id=\"Lemmatization\"></a>\n",
    "\n",
    "It is the process of identification and removal of suffixes and pluralization which leaves you with a base word. For an example, the words like “studying”, “studies”, both take a base root form of “study”. As there is no point of having so many words which retrieve the same meaning. Therefore, the lemmatization has been performed on the above obtained pre-processed tokens.  "
   ]
  },
  {
   "cell_type": "code",
   "execution_count": 12,
   "metadata": {},
   "outputs": [],
   "source": [
    "def lemmatized_tokens(dataa):\n",
    "    #Instantiating lemmatization function which can perform lemmatization functionality on each word.\n",
    "    lemmatizer = WordNetLemmatizer()\n",
    "    #lemmatising the words\n",
    "    lemmatized_tokens = [lemmatizer.lemmatize(w) for w in dataa]\n",
    "    return lemmatized_tokens"
   ]
  },
  {
   "cell_type": "code",
   "execution_count": 13,
   "metadata": {},
   "outputs": [],
   "source": [
    "'''\n",
    "This is the cell where we call all our functions defined above and complete text preprocessing by traversing through\n",
    "all the tweet documents which is stored in a dictionary.\n",
    "'''\n",
    "document_id_preprocessed_tokens = {}\n",
    "for tuplee in list(dicti.items()):\n",
    "    document_content = tuplee[1]\n",
    "    document_content = remove_tags(document_content)\n",
    "    document_content = tokenization(document_content)\n",
    "    document_content = bigrams_generation(document_content)\n",
    "    document_content = stopwords(document_content)\n",
    "    document_content = remove_apostophy_hyphen(document_content)\n",
    "    document_content = lemmatized_tokens(document_content)\n",
    "    #storing the preprocessed text into dictonary for further processing\n",
    "    document_id_preprocessed_tokens[tuplee[0]] = document_content"
   ]
  },
  {
   "cell_type": "code",
   "execution_count": 14,
   "metadata": {},
   "outputs": [],
   "source": [
    "'''\n",
    "The below four separate empty lists are created to store the ids and pre-processed tokens of train and test data.\n",
    "So, that these lists could be used when we are building the classifier.\n",
    "'''\n",
    "train_data_ids = []\n",
    "train_data_preprocessed_tokens = []\n",
    "test_data_ids = []\n",
    "test_data_preprocessed_tokens = []\n",
    "for key,value in document_id_preprocessed_tokens.items():\n",
    "    if '.xml' in key:\n",
    "        #removing the .xml from the file name and making it the id for our training and testing tasks.\n",
    "        keyy = key.replace(\".xml\", \"\")\n",
    "        #seperate the train and test data based on the labels present for the tweet ids.\n",
    "        if keyy in train_list:\n",
    "            train_data_ids.append(keyy)\n",
    "            train_data_preprocessed_tokens.append(document_id_preprocessed_tokens[key])\n",
    "        else:\n",
    "            test_data_ids.append(keyy)\n",
    "            test_data_preprocessed_tokens.append(document_id_preprocessed_tokens[key])"
   ]
  },
  {
   "cell_type": "code",
   "execution_count": 15,
   "metadata": {},
   "outputs": [
    {
     "name": "stdout",
     "output_type": "stream",
     "text": [
      "Number of samples in train data: 3100\n",
      "Number of samples in test data: 500\n"
     ]
    }
   ],
   "source": [
    "print(\"Number of samples in train data: \" + str(len(train_data_ids)))\n",
    "print(\"Number of samples in test data: \" + str(len(test_data_ids)))"
   ]
  },
  {
   "cell_type": "code",
   "execution_count": 16,
   "metadata": {},
   "outputs": [],
   "source": [
    "#retrieving the train labels for each train data id i.e. tweet-id\n",
    "train_labels_gender = []\n",
    "for idd in train_data_ids:\n",
    "    for index,row in train_labels.iterrows():\n",
    "        if row['id'] == idd:\n",
    "            train_labels_gender.append(row['gender'])"
   ]
  },
  {
   "cell_type": "code",
   "execution_count": 17,
   "metadata": {},
   "outputs": [],
   "source": [
    "#finally joining all the pre processed data to feed it into vectoriser and get the vectors for our model for both train,test \n",
    "Train_X = [' '.join(element) for element in train_data_preprocessed_tokens]\n",
    "Test_X = [' '.join(element) for element in test_data_preprocessed_tokens]\n",
    "Train_Y = train_labels_gender"
   ]
  },
  {
   "cell_type": "markdown",
   "metadata": {},
   "source": [
    "**7.Feature Extraction** <a class=\"anchor\" id=\"feature_generation\"></a>\n",
    "\n",
    "TF-IDF Features:- TF-IDF stands for **`Term Frequency – Inverse Document Frequency`**. It is a scoring method i.e. generating word frequencies, that plays a key-role in the information retrieval. It is intendent to know how relevant a term in a given document among a set of documents. The idea behind this concept is the terms which occur more frequently in the document should improve those terms weights/value and be able to predict what that document is about than those words which occur less frequently. This is called **`Term Frequency`**. Similarly, if the word occurs commonly in all the documents, it means that, the specific word is not related to that document and do not add any weight/value to it. It is just the common word that is occurring over all the documents. This is called **`Document Frequency`**. Now, the words which occurs frequently inside the given document and are occurring rarely in the given overall documents (or) the corpus , should have high weights/values and be able to predict what the given document is about by having high semantic meaning with respect to that particular document. Thus, the term-frequency multiplied with inverse document frequency is used to calculate this metric with the following formula."
   ]
  },
  {
   "attachments": {
    "image.png": {
     "image/png": "[encoded data removed]"
    }
   },
   "cell_type": "markdown",
   "metadata": {},
   "source": [
    "![image.png](attachment:image.png)"
   ]
  },
  {
   "cell_type": "markdown",
   "metadata": {},
   "source": [
    "This process is actually chosen to get high semantic words belonging to a given document. But sometimes, there is a chance of losing a lot of information when it comes to broader way of contextual learning, as it follows BOW(Bag of Words)approach. This BOW approach discards word order thereby ignoring the context and its actual meaning of words in the document."
   ]
  },
  {
   "cell_type": "markdown",
   "metadata": {},
   "source": [
    "**TF-IDF Vectorizer:** From the above obtained word frequencies using TF-IDF formula, now using “TF-IDF Vectorizer”, we will convert these word frequencies into vectors i.e. vector representation, which could be passed to our machine learning algorithms. Because machine learning algorithms could be feed/understand only the vector representations of data."
   ]
  },
  {
   "cell_type": "code",
   "execution_count": 18,
   "metadata": {},
   "outputs": [],
   "source": [
    "# TF_IDF Vectorizer was used to convert word frequencies into vectors since machine understands vector representation of data\n",
    "Tfidf_vector = TfidfVectorizer(max_features = 10000)\n",
    "Tfidf_vector.fit(Train_X)\n",
    "Train_X_Tfidf = Tfidf_vector.transform(Train_X)\n",
    "Test_X_Tfidf = Tfidf_vector.transform(Test_X)"
   ]
  },
  {
   "cell_type": "markdown",
   "metadata": {},
   "source": [
    "## 4. Classifier<a class=\"anchor\" id=\"sec_4\"></a>\n",
    "\n",
    "After pre-processing, extracting the features, making it in a machine-readable format , we will build different classifiers and try to predict the test tweet data through these built classifiers via train data and finally decided the best classifier where we are obtaining the best results."
   ]
  },
  {
   "cell_type": "markdown",
   "metadata": {},
   "source": [
    " **Bagging Classifier**:<a class=\"anchor\" id=\"classifier\"></a>\n",
    " \n",
    " **Support Vectors Machines(SVM)** is a method of supervised learning used for classification. We have different types of SVMs like **SVC**, **NuSVC** and **LinearSVC** which are capable of performing binary and multi-class classification on the given dataset. This support vector machines, uses a hyperplane, and tries to classify the labels through this hyperplane. Even though SVM, types of SVM works through the same concept of hyperplane, **SVC is more generalized than SVM**, as it could solve the problem of over-fitting. If we select a type of kernel in SVC as **`linear`**, then it is called **`LinearSVC`**. As ours is a classification task, consists of 2 labels  and **`LinearSVC`** could classify the available two class labels i.e. male and female easily through its decision boundary line by minimizing the loss function through **`hinge loss`** ."
   ]
  },
  {
   "cell_type": "markdown",
   "metadata": {},
   "source": [
    "Following are the parameters used in LinearSVC are:\n",
    " - **`C`** -  It’s a regularization parameter, used to reduce the loss. The lower the `C` i.e., tuning the value to **`C=1.0`**, we obtain the best the fit.\n",
    "\n",
    " - **`kernel`** -  As we are using LinearSVC, it do not have any kernel and set default to **`linear`** only.\n",
    "\n",
    " - **`gamma`** - It is a parameter used for non-linear hyperplanes. The higher the gamma value, the best the training fit could be. In our case we do not require this parameter and set to **`default = 1`**.\n",
    " \n",
    "**`Cross-validation`** is done through **`BaggingClassifier`** in sklearn, python. Bagging is also known as **`Bootstrap Aggregating`** designed to improve accuracy & stability of the Machine Learning Algorithm.\n",
    "\n",
    "Following are the hyper-parameters set for this Classifier are:\n",
    "\n",
    " - **`n_estimators`**:- number of samples required in ensemble. **`n_estimators`** is set to the value of **`25`**.\n",
    "\n",
    " - **`random_state`**:- control the random resampling of the original dataset i.e. both sample wise, feature wise. **`random_state`** is set to the value of **`5`**.\n",
    "\n",
    "After building this classifier, the model is fitted on Train data & its labels. Finally, the fitted model is used to predict on test data."
   ]
  },
  {
   "cell_type": "code",
   "execution_count": 19,
   "metadata": {},
   "outputs": [],
   "source": [
    "# Best classifier giving the most accurate prediction in terms of gender classification\n",
    "np.random.seed(1234)\n",
    "clf=BaggingClassifier(base_estimator=SVC(C = 1.0, kernel='linear', degree=3, gamma = 1), n_estimators=25, random_state=5)\n",
    "clf.fit(Train_X_Tfidf , Train_Y)\n",
    "predictions_SVM = clf.predict(Test_X_Tfidf).tolist()"
   ]
  },
  {
   "cell_type": "markdown",
   "metadata": {},
   "source": [
    "Creating a dataframe to update the predicted `gender` column for its `ids` given in the test data"
   ]
  },
  {
   "cell_type": "code",
   "execution_count": 20,
   "metadata": {},
   "outputs": [
    {
     "data": {
      "text/html": [
       "<div>\n",
       "<style scoped>\n",
       "    .dataframe tbody tr th:only-of-type {\n",
       "        vertical-align: middle;\n",
       "    }\n",
       "\n",
       "    .dataframe tbody tr th {\n",
       "        vertical-align: top;\n",
       "    }\n",
       "\n",
       "    .dataframe thead th {\n",
       "        text-align: right;\n",
       "    }\n",
       "</style>\n",
       "<table border=\"1\" class=\"dataframe\">\n",
       "  <thead>\n",
       "    <tr style=\"text-align: right;\">\n",
       "      <th></th>\n",
       "      <th>id</th>\n",
       "      <th>gender</th>\n",
       "    </tr>\n",
       "  </thead>\n",
       "  <tbody>\n",
       "    <tr>\n",
       "      <th>0</th>\n",
       "      <td>1064bd0b78f14bea5b851e2a995dd4e5</td>\n",
       "      <td>male</td>\n",
       "    </tr>\n",
       "    <tr>\n",
       "      <th>1</th>\n",
       "      <td>10b29c3fa3a80479a726ace913768934</td>\n",
       "      <td>male</td>\n",
       "    </tr>\n",
       "    <tr>\n",
       "      <th>2</th>\n",
       "      <td>111dca856335d766d2c4f90d9d60b616</td>\n",
       "      <td>female</td>\n",
       "    </tr>\n",
       "    <tr>\n",
       "      <th>3</th>\n",
       "      <td>118602e0a88eb676ddf2bbb47e8bc0a</td>\n",
       "      <td>female</td>\n",
       "    </tr>\n",
       "    <tr>\n",
       "      <th>4</th>\n",
       "      <td>119332e948448bf29110ba44e5b6578</td>\n",
       "      <td>female</td>\n",
       "    </tr>\n",
       "  </tbody>\n",
       "</table>\n",
       "</div>"
      ],
      "text/plain": [
       "                                 id  gender\n",
       "0  1064bd0b78f14bea5b851e2a995dd4e5    male\n",
       "1  10b29c3fa3a80479a726ace913768934    male\n",
       "2  111dca856335d766d2c4f90d9d60b616  female\n",
       "3   118602e0a88eb676ddf2bbb47e8bc0a  female\n",
       "4   119332e948448bf29110ba44e5b6578  female"
      ]
     },
     "execution_count": 20,
     "metadata": {},
     "output_type": "execute_result"
    }
   ],
   "source": [
    "# Appending predicated values to a dataframe\n",
    "test_dataframe = pd.DataFrame(list(zip(test_data_ids, predictions_SVM)), columns =['id', 'gender']) \n",
    "test_dataframe.head()"
   ]
  },
  {
   "cell_type": "code",
   "execution_count": 21,
   "metadata": {},
   "outputs": [
    {
     "data": {
      "text/html": [
       "<div>\n",
       "<style scoped>\n",
       "    .dataframe tbody tr th:only-of-type {\n",
       "        vertical-align: middle;\n",
       "    }\n",
       "\n",
       "    .dataframe tbody tr th {\n",
       "        vertical-align: top;\n",
       "    }\n",
       "\n",
       "    .dataframe thead th {\n",
       "        text-align: right;\n",
       "    }\n",
       "</style>\n",
       "<table border=\"1\" class=\"dataframe\">\n",
       "  <thead>\n",
       "    <tr style=\"text-align: right;\">\n",
       "      <th></th>\n",
       "      <th>id</th>\n",
       "      <th>gender</th>\n",
       "    </tr>\n",
       "  </thead>\n",
       "  <tbody>\n",
       "    <tr>\n",
       "      <th>320</th>\n",
       "      <td>1064bd0b78f14bea5b851e2a995dd4e5</td>\n",
       "      <td>female</td>\n",
       "    </tr>\n",
       "    <tr>\n",
       "      <th>42</th>\n",
       "      <td>10b29c3fa3a80479a726ace913768934</td>\n",
       "      <td>male</td>\n",
       "    </tr>\n",
       "    <tr>\n",
       "      <th>197</th>\n",
       "      <td>111dca856335d766d2c4f90d9d60b616</td>\n",
       "      <td>male</td>\n",
       "    </tr>\n",
       "    <tr>\n",
       "      <th>262</th>\n",
       "      <td>118602e0a88eb676ddf2bbb47e8bc0a</td>\n",
       "      <td>female</td>\n",
       "    </tr>\n",
       "    <tr>\n",
       "      <th>443</th>\n",
       "      <td>119332e948448bf29110ba44e5b6578</td>\n",
       "      <td>female</td>\n",
       "    </tr>\n",
       "  </tbody>\n",
       "</table>\n",
       "</div>"
      ],
      "text/plain": [
       "                                   id  gender\n",
       "320  1064bd0b78f14bea5b851e2a995dd4e5  female\n",
       "42   10b29c3fa3a80479a726ace913768934    male\n",
       "197  111dca856335d766d2c4f90d9d60b616    male\n",
       "262   118602e0a88eb676ddf2bbb47e8bc0a  female\n",
       "443   119332e948448bf29110ba44e5b6578  female"
      ]
     },
     "execution_count": 21,
     "metadata": {},
     "output_type": "execute_result"
    }
   ],
   "source": [
    "#Sorting the test labels dataframe to get the ids in the order of train data.\n",
    "test_labels= test_labels.sort_values('id')\n",
    "test_labels.head()"
   ]
  },
  {
   "cell_type": "markdown",
   "metadata": {},
   "source": [
    "## 5. Evaluation<a class=\"anchor\" id=\"sec_5\"></a> \n",
    "\n",
    "After calculating the test & train accuracy, I had calculated the following metrics of the obtained model:\n",
    "\n",
    "- __`Confusion Matrix`__ : A confusion matrix is a table that is often used to describe the performance of a classification model (or “classifier”) on a set of test data for which the true values are known. It allows the visualization of the performance of an algorithm.\n",
    "\n",
    "While there are many different types of classification algorithms, the evaluation of classification models all share similar principles. In a supervised classification problem, there exists a true output and a model-generated predicted output for each data point. For this reason, the results for each data point can be assigned to one of four categories:\n",
    "\n",
    " - `True Positive (TP)` - label is positive and prediction is also positive\n",
    " - `True Negative (TN)` - label is negative and prediction is also negative\n",
    " - `False Positive (FP)` - label is negative but prediction is positive\n",
    " - `False Negative (FN)` - label is positive but prediction is negative\n",
    "\n",
    "Here the evaluation metric used is **`accuracy score`** which is defined as follows:\n",
    "\n",
    "- __`Accuracy Score`__ :<a class=\"anchor\" id=\"evaluation\"></a> \n",
    "\n",
    "It is the ratio of number of correct predictions to the total number of input samples.\n",
    "\n",
    "\\begin{gather*}\n",
    "    \\therefore AccuracyScore = \\frac{Number of Correct Predictions}{Total number of predictions made}\n",
    "\\end{gather*}\n",
    "\n",
    "Accuracy term is measured via \"accuracy_score\" function from \"sklearn\" library."
   ]
  },
  {
   "cell_type": "code",
   "execution_count": 22,
   "metadata": {},
   "outputs": [
    {
     "name": "stdout",
     "output_type": "stream",
     "text": [
      "Accuracy score for best classifier i.e., Bagging with Linear SVC is: 82.2\n"
     ]
    }
   ],
   "source": [
    "acc_score = accuracy_score(test_labels['gender'], test_dataframe['gender'])\n",
    "print(\"Accuracy score for best classifier i.e., Bagging with Linear SVC is:\",round(acc_score*100,3))"
   ]
  },
  {
   "cell_type": "markdown",
   "metadata": {},
   "source": [
    "Finally, the best accuracy model is observed on the test_data for **`Bagging with LinearSVC`** is **`82.2%.`**"
   ]
  },
  {
   "cell_type": "code",
   "execution_count": 23,
   "metadata": {},
   "outputs": [
    {
     "name": "stdout",
     "output_type": "stream",
     "text": [
      "[[210  42]\n",
      " [ 47 201]]\n"
     ]
    }
   ],
   "source": [
    "confusion_matrix = metrics.confusion_matrix(test_labels['gender'], test_dataframe['gender'])\n",
    "print(confusion_matrix)"
   ]
  },
  {
   "cell_type": "code",
   "execution_count": 24,
   "metadata": {},
   "outputs": [
    {
     "name": "stdout",
     "output_type": "stream",
     "text": [
      "True Negative value in confusion matrix: 210\n",
      "True Positive value in confusion matrix: 201\n",
      "False Positive value in confusion matrix: 42\n",
      "False Negative value in confusion matrix: 47\n"
     ]
    }
   ],
   "source": [
    "print('True Negative value in confusion matrix:',confusion_matrix[0][0])\n",
    "print('True Positive value in confusion matrix:',confusion_matrix[1][1])\n",
    "print('False Positive value in confusion matrix:',confusion_matrix[0][1])\n",
    "print('False Negative value in confusion matrix:',confusion_matrix[1][0])"
   ]
  },
  {
   "cell_type": "code",
   "execution_count": 25,
   "metadata": {},
   "outputs": [],
   "source": [
    "test_dataframe.to_csv('pred_labels.csv', index = False)"
   ]
  },
  {
   "cell_type": "markdown",
   "metadata": {},
   "source": [
    "## 6. Conclusion<a class=\"anchor\" id=\"sec_6\"></a> "
   ]
  },
  {
   "cell_type": "markdown",
   "metadata": {},
   "source": [
    "We have conducted **`Authorship Profiling`** on a set of tweet texts, by pre-processing the given data , extracting the features and converting them into a machine-readable format. Later, different classifiers are built on the data that has labels i.e. train_data and tried to predict the classes/labels of the test data. Finally, the best accuracy model is observed on the test_data for **`Bagging with LinearSVC`** is **`82.2%`**.\n",
    "\n",
    "Future scope of improvement of this could be to conduct the sentimental analysis i.e. if there exists a word like **my_wife**, **my_girlfriend** side by side. Then this tweet could be done by **male**. If there exists a words like **my_boyfriend**, **my_husband** side by side, then this tweet could be done by **female**. This need not be a case 100 percent always. So, a proper analysis of these tweets could be done. Trying to interpret the data through emojis, as there exists a lot of emojis which could classify sometimes properly to whom the tweet has belongs to. Like, **a girl symbol** is usually used by **girls** and **a boy symbol** is usually used by **boys**. Instead of using **TF-IDF**, from where the semantic meaning of content could not be retrieved. We can try using **Word2Vec**, **GloVe** to derive the vectors.\n",
    "\n",
    "Pre-training of the models could also be done using **BERT**, **XLnet** and **Elmo** , which can be used to tune deep learning models like **Recurrent Neural Networks** and **LSTM** which allows us to stream-line the context-based learning approach and help us to give better accuracies. However, as it can also be seen that using simple models also give us better accuracies close to these **state-of-the-art** techniques. Therefore, a call should be made based on the requirements of the task as to which techniques and classifiers need to be used.                                  "
   ]
  },
  {
   "cell_type": "markdown",
   "metadata": {},
   "source": [
    "## 7. References<a class=\"anchor\" id=\"sec_7\"></a> "
   ]
  },
  {
   "cell_type": "markdown",
   "metadata": {},
   "source": [
    " - https://www.kdnuggets.com/2017/12/general-approach-preprocessing-text-data.html\t \n",
    "\n",
    " - https://medium.com/@bedigunjit/simple-guide-to-text-classification-nlp-using-svm-and-naive-bayes-with-python-421db3a72d34\t                  \n",
    " \n",
    " - https://towardsdatascience.com/machine-learning-text-processing-1d5a2d638958\t  \n",
    " \n",
    " - https://medium.com/@dhiraj8899/top-4-advantages-and-disadvantages-of-support-vector-machine-or-svm-a3c06a2b107\t \n",
    " \n",
    " - https://towardsdatascience.com/an-implementation-and-explanation-of-the-random-forest-in-python-77bf308a9b76\t       \n",
    "  \n",
    " - https://machinelearningmastery.com/naive-bayes-classifier-scratch-python/"
   ]
  },
  {
   "cell_type": "code",
   "execution_count": null,
   "metadata": {},
   "outputs": [],
   "source": []
  }
 ],
 "metadata": {
  "kernelspec": {
   "display_name": "Python 3",
   "language": "python",
   "name": "python3"
  },
  "language_info": {
   "codemirror_mode": {
    "name": "ipython",
    "version": 3
   },
   "file_extension": ".py",
   "mimetype": "text/x-python",
   "name": "python",
   "nbconvert_exporter": "python",
   "pygments_lexer": "ipython3",
   "version": "3.8.5"
  }
 },
 "nbformat": 4,
 "nbformat_minor": 2
}
